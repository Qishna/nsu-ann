{
 "cells": [
  {
   "cell_type": "markdown",
   "metadata": {},
   "source": [
    "# Задание 3. AlexNet\n",
    "\n",
    "Написать и обучить сеть AlexNet для классификации цифр MNIST, не допустив переобучения. Соотношение обучающей и тестовой выборок 70 к 30. Отобразить график обучения, посчитать accuracy, precision, recall. Построить ROC-кивые"
   ]
  },
  {
   "cell_type": "code",
   "execution_count": null,
   "metadata": {},
   "outputs": [],
   "source": [
    "import numpy as np\n",
    "import matplotlib.pyplot as plt"
   ]
  }
 ],
 "metadata": {
  "language_info": {
   "name": "python"
  },
  "orig_nbformat": 4
 },
 "nbformat": 4,
 "nbformat_minor": 2
}
