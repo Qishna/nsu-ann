{
 "cells": [
  {
   "cell_type": "markdown",
   "metadata": {},
   "source": [
    "# Задание 3. LeNet\n",
    "\n",
    "Написать и обучить сеть LeNet/AlexNet для классификации цифр MNIST, не допустив переобучения. Соотношение обучающей и тестовой выборок 70 к 30. Отобразить график обучения, посчитать accuracy, precision, recall. "
   ]
  },
  {
   "cell_type": "markdown",
   "metadata": {},
   "source": [
    "## Установим окружение"
   ]
  },
  {
   "cell_type": "code",
   "execution_count": 9,
   "metadata": {},
   "outputs": [
    {
     "name": "stdout",
     "output_type": "stream",
     "text": [
      "Requirement already satisfied: argon2-cffi==21.3.0 in ./.venv/lib/python3.8/site-packages (from -r requirements.txt (line 1)) (21.3.0)\n",
      "Requirement already satisfied: argon2-cffi-bindings==21.2.0 in ./.venv/lib/python3.8/site-packages (from -r requirements.txt (line 2)) (21.2.0)\n",
      "Requirement already satisfied: asttokens==2.0.5 in ./.venv/lib/python3.8/site-packages (from -r requirements.txt (line 3)) (2.0.5)\n",
      "Requirement already satisfied: attrs==21.4.0 in ./.venv/lib/python3.8/site-packages (from -r requirements.txt (line 4)) (21.4.0)\n",
      "Requirement already satisfied: backcall==0.2.0 in ./.venv/lib/python3.8/site-packages (from -r requirements.txt (line 5)) (0.2.0)\n",
      "Requirement already satisfied: beautifulsoup4==4.11.1 in ./.venv/lib/python3.8/site-packages (from -r requirements.txt (line 6)) (4.11.1)\n",
      "Requirement already satisfied: black==22.3.0 in ./.venv/lib/python3.8/site-packages (from -r requirements.txt (line 7)) (22.3.0)\n",
      "Requirement already satisfied: bleach==5.0.0 in ./.venv/lib/python3.8/site-packages (from -r requirements.txt (line 8)) (5.0.0)\n",
      "Requirement already satisfied: cffi==1.15.0 in ./.venv/lib/python3.8/site-packages (from -r requirements.txt (line 9)) (1.15.0)\n",
      "Requirement already satisfied: click==8.1.3 in ./.venv/lib/python3.8/site-packages (from -r requirements.txt (line 10)) (8.1.3)\n",
      "Requirement already satisfied: cupy-cuda101==9.6.0 in ./.venv/lib/python3.8/site-packages (from -r requirements.txt (line 11)) (9.6.0)\n",
      "Requirement already satisfied: cupy-cuda90==8.6.0 in ./.venv/lib/python3.8/site-packages (from -r requirements.txt (line 12)) (8.6.0)\n",
      "Requirement already satisfied: cycler==0.11.0 in ./.venv/lib/python3.8/site-packages (from -r requirements.txt (line 13)) (0.11.0)\n",
      "Requirement already satisfied: debugpy==1.6.0 in ./.venv/lib/python3.8/site-packages (from -r requirements.txt (line 14)) (1.6.0)\n",
      "Requirement already satisfied: decorator==5.1.1 in ./.venv/lib/python3.8/site-packages (from -r requirements.txt (line 15)) (5.1.1)\n",
      "Requirement already satisfied: defusedxml==0.7.1 in ./.venv/lib/python3.8/site-packages (from -r requirements.txt (line 16)) (0.7.1)\n",
      "Requirement already satisfied: entrypoints==0.4 in ./.venv/lib/python3.8/site-packages (from -r requirements.txt (line 17)) (0.4)\n",
      "Requirement already satisfied: executing==0.8.3 in ./.venv/lib/python3.8/site-packages (from -r requirements.txt (line 18)) (0.8.3)\n",
      "Requirement already satisfied: fastjsonschema==2.15.3 in ./.venv/lib/python3.8/site-packages (from -r requirements.txt (line 19)) (2.15.3)\n",
      "Requirement already satisfied: fastrlock==0.8 in ./.venv/lib/python3.8/site-packages (from -r requirements.txt (line 20)) (0.8)\n",
      "Requirement already satisfied: fonttools==4.33.3 in ./.venv/lib/python3.8/site-packages (from -r requirements.txt (line 21)) (4.33.3)\n",
      "Requirement already satisfied: idx2numpy==1.2.3 in ./.venv/lib/python3.8/site-packages (from -r requirements.txt (line 22)) (1.2.3)\n",
      "Requirement already satisfied: importlib-resources==5.7.1 in ./.venv/lib/python3.8/site-packages (from -r requirements.txt (line 23)) (5.7.1)\n",
      "Requirement already satisfied: ipykernel==6.13.0 in ./.venv/lib/python3.8/site-packages (from -r requirements.txt (line 24)) (6.13.0)\n",
      "Requirement already satisfied: ipython==8.3.0 in ./.venv/lib/python3.8/site-packages (from -r requirements.txt (line 25)) (8.3.0)\n",
      "Requirement already satisfied: ipython-genutils==0.2.0 in ./.venv/lib/python3.8/site-packages (from -r requirements.txt (line 26)) (0.2.0)\n",
      "Requirement already satisfied: ipywidgets==7.7.0 in ./.venv/lib/python3.8/site-packages (from -r requirements.txt (line 27)) (7.7.0)\n",
      "Requirement already satisfied: jedi==0.18.1 in ./.venv/lib/python3.8/site-packages (from -r requirements.txt (line 28)) (0.18.1)\n",
      "Requirement already satisfied: Jinja2==3.1.2 in ./.venv/lib/python3.8/site-packages (from -r requirements.txt (line 29)) (3.1.2)\n",
      "Requirement already satisfied: jsonschema==4.5.1 in ./.venv/lib/python3.8/site-packages (from -r requirements.txt (line 30)) (4.5.1)\n",
      "Requirement already satisfied: jupyter-client==7.3.1 in ./.venv/lib/python3.8/site-packages (from -r requirements.txt (line 31)) (7.3.1)\n",
      "Requirement already satisfied: jupyter-core==4.10.0 in ./.venv/lib/python3.8/site-packages (from -r requirements.txt (line 32)) (4.10.0)\n",
      "Requirement already satisfied: jupyterlab-pygments==0.2.2 in ./.venv/lib/python3.8/site-packages (from -r requirements.txt (line 33)) (0.2.2)\n",
      "Requirement already satisfied: jupyterlab-widgets==1.1.0 in ./.venv/lib/python3.8/site-packages (from -r requirements.txt (line 34)) (1.1.0)\n",
      "Requirement already satisfied: kiwisolver==1.4.2 in ./.venv/lib/python3.8/site-packages (from -r requirements.txt (line 35)) (1.4.2)\n",
      "Requirement already satisfied: MarkupSafe==2.1.1 in ./.venv/lib/python3.8/site-packages (from -r requirements.txt (line 36)) (2.1.1)\n",
      "Requirement already satisfied: matplotlib==3.5.2 in ./.venv/lib/python3.8/site-packages (from -r requirements.txt (line 37)) (3.5.2)\n",
      "Requirement already satisfied: matplotlib-inline==0.1.3 in ./.venv/lib/python3.8/site-packages (from -r requirements.txt (line 38)) (0.1.3)\n",
      "Requirement already satisfied: mistune==0.8.4 in ./.venv/lib/python3.8/site-packages (from -r requirements.txt (line 39)) (0.8.4)\n",
      "Requirement already satisfied: mypy-extensions==0.4.3 in ./.venv/lib/python3.8/site-packages (from -r requirements.txt (line 40)) (0.4.3)\n",
      "Requirement already satisfied: nbclient==0.6.3 in ./.venv/lib/python3.8/site-packages (from -r requirements.txt (line 41)) (0.6.3)\n",
      "Requirement already satisfied: nbconvert==6.5.0 in ./.venv/lib/python3.8/site-packages (from -r requirements.txt (line 42)) (6.5.0)\n",
      "Requirement already satisfied: nbformat==5.4.0 in ./.venv/lib/python3.8/site-packages (from -r requirements.txt (line 43)) (5.4.0)\n",
      "Requirement already satisfied: nest-asyncio==1.5.5 in ./.venv/lib/python3.8/site-packages (from -r requirements.txt (line 44)) (1.5.5)\n",
      "Requirement already satisfied: notebook==6.4.11 in ./.venv/lib/python3.8/site-packages (from -r requirements.txt (line 45)) (6.4.11)\n",
      "Requirement already satisfied: numpy==1.22.3 in ./.venv/lib/python3.8/site-packages (from -r requirements.txt (line 46)) (1.22.3)\n",
      "Requirement already satisfied: packaging==21.3 in ./.venv/lib/python3.8/site-packages (from -r requirements.txt (line 47)) (21.3)\n",
      "Requirement already satisfied: pandocfilters==1.5.0 in ./.venv/lib/python3.8/site-packages (from -r requirements.txt (line 48)) (1.5.0)\n",
      "Requirement already satisfied: parso==0.8.3 in ./.venv/lib/python3.8/site-packages (from -r requirements.txt (line 49)) (0.8.3)\n",
      "Requirement already satisfied: pathspec==0.9.0 in ./.venv/lib/python3.8/site-packages (from -r requirements.txt (line 50)) (0.9.0)\n",
      "Requirement already satisfied: pexpect==4.8.0 in ./.venv/lib/python3.8/site-packages (from -r requirements.txt (line 51)) (4.8.0)\n",
      "Requirement already satisfied: pickleshare==0.7.5 in ./.venv/lib/python3.8/site-packages (from -r requirements.txt (line 52)) (0.7.5)\n",
      "Requirement already satisfied: Pillow==9.1.0 in ./.venv/lib/python3.8/site-packages (from -r requirements.txt (line 53)) (9.1.0)\n",
      "Requirement already satisfied: platformdirs==2.5.2 in ./.venv/lib/python3.8/site-packages (from -r requirements.txt (line 54)) (2.5.2)\n",
      "Requirement already satisfied: prometheus-client==0.14.1 in ./.venv/lib/python3.8/site-packages (from -r requirements.txt (line 55)) (0.14.1)\n",
      "Requirement already satisfied: prompt-toolkit==3.0.29 in ./.venv/lib/python3.8/site-packages (from -r requirements.txt (line 56)) (3.0.29)\n",
      "Requirement already satisfied: psutil==5.9.0 in ./.venv/lib/python3.8/site-packages (from -r requirements.txt (line 57)) (5.9.0)\n",
      "Requirement already satisfied: ptyprocess==0.7.0 in ./.venv/lib/python3.8/site-packages (from -r requirements.txt (line 58)) (0.7.0)\n",
      "Requirement already satisfied: pure-eval==0.2.2 in ./.venv/lib/python3.8/site-packages (from -r requirements.txt (line 59)) (0.2.2)\n",
      "Requirement already satisfied: pycparser==2.21 in ./.venv/lib/python3.8/site-packages (from -r requirements.txt (line 60)) (2.21)\n",
      "Requirement already satisfied: Pygments==2.12.0 in ./.venv/lib/python3.8/site-packages (from -r requirements.txt (line 61)) (2.12.0)\n",
      "Requirement already satisfied: pyparsing==3.0.8 in ./.venv/lib/python3.8/site-packages (from -r requirements.txt (line 62)) (3.0.8)\n",
      "Requirement already satisfied: pyrsistent==0.18.1 in ./.venv/lib/python3.8/site-packages (from -r requirements.txt (line 63)) (0.18.1)\n",
      "Requirement already satisfied: python-dateutil==2.8.2 in ./.venv/lib/python3.8/site-packages (from -r requirements.txt (line 64)) (2.8.2)\n",
      "Requirement already satisfied: pyzmq==22.3.0 in ./.venv/lib/python3.8/site-packages (from -r requirements.txt (line 65)) (22.3.0)\n",
      "Requirement already satisfied: Send2Trash==1.8.0 in ./.venv/lib/python3.8/site-packages (from -r requirements.txt (line 66)) (1.8.0)\n",
      "Requirement already satisfied: six==1.16.0 in ./.venv/lib/python3.8/site-packages (from -r requirements.txt (line 67)) (1.16.0)\n",
      "Requirement already satisfied: soupsieve==2.3.2.post1 in ./.venv/lib/python3.8/site-packages (from -r requirements.txt (line 68)) (2.3.2.post1)\n",
      "Requirement already satisfied: stack-data==0.2.0 in ./.venv/lib/python3.8/site-packages (from -r requirements.txt (line 69)) (0.2.0)\n",
      "Requirement already satisfied: terminado==0.13.3 in ./.venv/lib/python3.8/site-packages (from -r requirements.txt (line 70)) (0.13.3)\n"
     ]
    },
    {
     "name": "stdout",
     "output_type": "stream",
     "text": [
      "Requirement already satisfied: tinycss2==1.1.1 in ./.venv/lib/python3.8/site-packages (from -r requirements.txt (line 71)) (1.1.1)\r\n",
      "Requirement already satisfied: tomli==2.0.1 in ./.venv/lib/python3.8/site-packages (from -r requirements.txt (line 72)) (2.0.1)\r\n",
      "Requirement already satisfied: tornado==6.1 in ./.venv/lib/python3.8/site-packages (from -r requirements.txt (line 73)) (6.1)\r\n",
      "Requirement already satisfied: tqdm==4.64.0 in ./.venv/lib/python3.8/site-packages (from -r requirements.txt (line 74)) (4.64.0)\r\n",
      "Requirement already satisfied: traitlets==5.2.0 in ./.venv/lib/python3.8/site-packages (from -r requirements.txt (line 75)) (5.2.0)\r\n",
      "Requirement already satisfied: typing-extensions==4.2.0 in ./.venv/lib/python3.8/site-packages (from -r requirements.txt (line 76)) (4.2.0)\r\n",
      "Requirement already satisfied: wcwidth==0.2.5 in ./.venv/lib/python3.8/site-packages (from -r requirements.txt (line 77)) (0.2.5)\r\n",
      "Requirement already satisfied: webencodings==0.5.1 in ./.venv/lib/python3.8/site-packages (from -r requirements.txt (line 78)) (0.5.1)\r\n",
      "Requirement already satisfied: widgetsnbextension==3.6.0 in ./.venv/lib/python3.8/site-packages (from -r requirements.txt (line 79)) (3.6.0)\r\n",
      "Requirement already satisfied: zipp==3.8.0 in ./.venv/lib/python3.8/site-packages (from -r requirements.txt (line 80)) (3.8.0)\r\n",
      "Requirement already satisfied: setuptools>=18.5 in ./.venv/lib/python3.8/site-packages (from ipython==8.3.0->-r requirements.txt (line 25)) (62.1.0)\r\n"
     ]
    }
   ],
   "source": [
    "! pip install -r requirements.txt"
   ]
  },
  {
   "cell_type": "code",
   "execution_count": 10,
   "metadata": {},
   "outputs": [],
   "source": [
    "import numpy as np\n",
    "import matplotlib.pyplot as plt"
   ]
  },
  {
   "cell_type": "code",
   "execution_count": 11,
   "metadata": {},
   "outputs": [],
   "source": [
    "HIDDEN_LAYER_SIZE = 30\n",
    "EPOCHS_NUM = 2500\n",
    "RANDOM_SEED = 228"
   ]
  },
  {
   "cell_type": "markdown",
   "metadata": {},
   "source": [
    "## Data\n",
    "Скачаем датасет MNIST"
   ]
  },
  {
   "cell_type": "code",
   "execution_count": 12,
   "metadata": {},
   "outputs": [],
   "source": [
    "! sh download_data.sh"
   ]
  },
  {
   "cell_type": "code",
   "execution_count": 13,
   "metadata": {},
   "outputs": [],
   "source": [
    "from dataset import load_mnist, prepare_for_neural_network, random_split_train_val\n",
    "\n",
    "x_train, y_train, x_test, y_test = load_mnist(\"data\")\n",
    "x_train, x_test = prepare_for_neural_network(x_train, x_test)\n",
    "x_train, y_train, x_val, y_val = random_split_train_val(x_train, y_train, num_val=18000, random_seed=RANDOM_SEED)"
   ]
  },
  {
   "cell_type": "code",
   "execution_count": 14,
   "metadata": {},
   "outputs": [
    {
     "data": {
      "image/png": "[encoded data removed]",
      "text/plain": [
       "<Figure size 576x288 with 8 Axes>"
      ]
     },
     "metadata": {
      "needs_background": "light"
     },
     "output_type": "display_data"
    }
   ],
   "source": [
    "from visualization import data_visualization\n",
    "\n",
    "data_visualization(x_train, x_train, RANDOM_SEED)"
   ]
  },
  {
   "cell_type": "code",
   "execution_count": 15,
   "metadata": {},
   "outputs": [
    {
     "name": "stdout",
     "output_type": "stream",
     "text": [
      "Train size: 42000\n",
      "Val size: 18000\n",
      "Test size: 10000\n"
     ]
    }
   ],
   "source": [
    "print('Train size:', x_train.shape[0])\n",
    "print('Val size:', x_val.shape[0])\n",
    "print('Test size:', x_test.shape[0])"
   ]
  },
  {
   "cell_type": "markdown",
   "metadata": {},
   "source": [
    "## Modelling"
   ]
  },
  {
   "cell_type": "code",
   "execution_count": 16,
   "metadata": {},
   "outputs": [
    {
     "data": {
      "application/vnd.jupyter.widget-view+json": {
       "model_id": "05b6efdee916400cbfba0e541cc67a22",
       "version_major": 2,
       "version_minor": 0
      },
      "text/plain": [
       "  0%|          | 0/165 [00:00<?, ?it/s]"
      ]
     },
     "metadata": {},
     "output_type": "display_data"
    },
    {
     "name": "stdout",
     "output_type": "stream",
     "text": [
      "Epoch 1  Train loss: 1.96784, Train accuracy: 0.17531, Val loss: -1.00000, val accuracy: 0.22939\n"
     ]
    },
    {
     "data": {
      "application/vnd.jupyter.widget-view+json": {
       "model_id": "ba75b5b7d27f4501b74276d1a2e6bd69",
       "version_major": 2,
       "version_minor": 0
      },
      "text/plain": [
       "  0%|          | 0/165 [00:00<?, ?it/s]"
      ]
     },
     "metadata": {},
     "output_type": "display_data"
    },
    {
     "name": "stdout",
     "output_type": "stream",
     "text": [
      "Epoch 2  Train loss: 1.64403, Train accuracy: 0.35043, Val loss: -1.00000, val accuracy: 0.47639\n"
     ]
    },
    {
     "data": {
      "application/vnd.jupyter.widget-view+json": {
       "model_id": "5e225f01c10d4c2cb7fa9b866ffa4f70",
       "version_major": 2,
       "version_minor": 0
      },
      "text/plain": [
       "  0%|          | 0/165 [00:00<?, ?it/s]"
      ]
     },
     "metadata": {},
     "output_type": "display_data"
    },
    {
     "name": "stdout",
     "output_type": "stream",
     "text": [
      "Epoch 3  Train loss: 1.21856, Train accuracy: 0.50148, Val loss: -1.00000, val accuracy: 0.55228\n"
     ]
    },
    {
     "data": {
      "application/vnd.jupyter.widget-view+json": {
       "model_id": "80d2061b37144a60820be66ba0d98b69",
       "version_major": 2,
       "version_minor": 0
      },
      "text/plain": [
       "  0%|          | 0/165 [00:00<?, ?it/s]"
      ]
     },
     "metadata": {},
     "output_type": "display_data"
    },
    {
     "name": "stdout",
     "output_type": "stream",
     "text": [
      "Epoch 4  Train loss: 0.51687, Train accuracy: 0.73424, Val loss: -1.00000, val accuracy: 0.79811\n"
     ]
    },
    {
     "data": {
      "application/vnd.jupyter.widget-view+json": {
       "model_id": "e90a48d40f0b4736a89374c8a3c2e91b",
       "version_major": 2,
       "version_minor": 0
      },
      "text/plain": [
       "  0%|          | 0/165 [00:00<?, ?it/s]"
      ]
     },
     "metadata": {},
     "output_type": "display_data"
    },
    {
     "name": "stdout",
     "output_type": "stream",
     "text": [
      "Epoch 5  Train loss: 0.22312, Train accuracy: 0.88619, Val loss: -1.00000, val accuracy: 0.95283\n"
     ]
    },
    {
     "data": {
      "application/vnd.jupyter.widget-view+json": {
       "model_id": "fac0fa1e738d43bea67add8a7861cee6",
       "version_major": 2,
       "version_minor": 0
      },
      "text/plain": [
       "  0%|          | 0/165 [00:00<?, ?it/s]"
      ]
     },
     "metadata": {},
     "output_type": "display_data"
    },
    {
     "name": "stdout",
     "output_type": "stream",
     "text": [
      "Epoch 6  Train loss: 0.05675, Train accuracy: 0.96798, Val loss: -1.00000, val accuracy: 0.96794\n"
     ]
    }
   ],
   "source": [
    "from model import LeNet\n",
    "from dataset import load_mnist, random_split_train_val\n",
    "from trainer import Trainer, Dataset\n",
    "from optimizers import Adam\n",
    "\n",
    "\n",
    "\n",
    "model = LeNet(n_output_classes=10)\n",
    "dataset = Dataset(x_train, y_train, x_val, y_val)\n",
    "trainer = Trainer(model, dataset, Adam(), learning_rate=1e-3, num_epochs=6, batch_size=256)\n",
    "loss_history, train_history, val_history = trainer.fit()"
   ]
  },
  {
   "cell_type": "markdown",
   "metadata": {},
   "source": [
    "## Results"
   ]
  },
  {
   "cell_type": "code",
   "execution_count": 17,
   "metadata": {},
   "outputs": [
    {
     "data": {
      "text/plain": [
       "[<matplotlib.lines.Line2D at 0x7fdf1c6feb50>]"
      ]
     },
     "execution_count": 17,
     "metadata": {},
     "output_type": "execute_result"
    },
    {
     "data": {
      "image/png": "[encoded data removed]",
      "text/plain": [
       "<Figure size 432x288 with 1 Axes>"
      ]
     },
     "metadata": {
      "needs_background": "light"
     },
     "output_type": "display_data"
    }
   ],
   "source": [
    "plt.plot(loss_history)"
   ]
  },
  {
   "cell_type": "code",
   "execution_count": 18,
   "metadata": {},
   "outputs": [
    {
     "data": {
      "text/plain": [
       "array([7, 2, 1, ..., 4, 5, 6])"
      ]
     },
     "execution_count": 18,
     "metadata": {},
     "output_type": "execute_result"
    }
   ],
   "source": [
    "predict = model.predict(x_test)\n",
    "predict"
   ]
  },
  {
   "cell_type": "code",
   "execution_count": 20,
   "metadata": {},
   "outputs": [
    {
     "name": "stdout",
     "output_type": "stream",
     "text": [
      "Precision: 1.0\n",
      "Recall: 1.0\n",
      "F1: 1.0\n",
      "Accuracy: 0.9725\n"
     ]
    }
   ],
   "source": [
    "from metrics import binary_classification_metrics\n",
    "metrics = binary_classification_metrics(predict, y_test)\n",
    "print('Precision:', metrics[0])\n",
    "print('Recall:', metrics[1])\n",
    "print('F1:', metrics[2])\n",
    "print('Accuracy:', metrics[3])"
   ]
  },
  {
   "cell_type": "code",
   "execution_count": null,
   "metadata": {},
   "outputs": [],
   "source": []
  }
 ],
 "metadata": {
  "interpreter": {
   "hash": "04e3787eb491a6a622ad299b0982344b9e79d29387cc7c45ef319422fff564a7"
  },
  "kernelspec": {
   "display_name": "Python 3 (ipykernel)",
   "language": "python",
   "name": "python3"
  },
  "language_info": {
   "codemirror_mode": {
    "name": "ipython",
    "version": 3
   },
   "file_extension": ".py",
   "mimetype": "text/x-python",
   "name": "python",
   "nbconvert_exporter": "python",
   "pygments_lexer": "ipython3",
   "version": "3.8.10"
  }
 },
 "nbformat": 4,
 "nbformat_minor": 2
}
